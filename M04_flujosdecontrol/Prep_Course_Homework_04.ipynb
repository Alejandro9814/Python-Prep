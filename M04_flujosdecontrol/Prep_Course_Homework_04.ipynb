{
 "cells": [
  {
   "attachments": {},
   "cell_type": "markdown",
   "metadata": {},
   "source": [
    "## Flujos de Control"
   ]
  },
  {
   "attachments": {},
   "cell_type": "markdown",
   "metadata": {},
   "source": [
    "1) Crear una variable que contenga un elemento del conjunto de números enteros y luego imprimir por pantalla si es mayor o menor a cero"
   ]
  },
  {
   "cell_type": "code",
   "execution_count": 7,
   "metadata": {},
   "outputs": [
    {
     "name": "stdout",
     "output_type": "stream",
     "text": [
      "El número ingresado es menor a 0\n"
     ]
    }
   ],
   "source": [
    "i=-2\n",
    "if i>0:\n",
    "    print(\"El número ingresado es mayor a 0\")\n",
    "else:\n",
    "    print(\"El número ingresado es menor a 0\")"
   ]
  },
  {
   "attachments": {},
   "cell_type": "markdown",
   "metadata": {},
   "source": [
    "2) Crear dos variables y un condicional que informe si son del mismo tipo de dato"
   ]
  },
  {
   "cell_type": "code",
   "execution_count": 8,
   "metadata": {},
   "outputs": [
    {
     "name": "stdout",
     "output_type": "stream",
     "text": [
      "Las dos variables no son del mismo tipo\n"
     ]
    }
   ],
   "source": [
    "var1=1\n",
    "var2=2.3\n",
    "if type(var1)==type(var2):\n",
    "    print(\"Las dos variables son del mismo tipo\")\n",
    "else:\n",
    "    print(\"Las dos variables no son del mismo tipo\")"
   ]
  },
  {
   "attachments": {},
   "cell_type": "markdown",
   "metadata": {},
   "source": [
    "3) Para los valores enteros del 1 al 20, imprimir por pantalla si es par o impar"
   ]
  },
  {
   "cell_type": "code",
   "execution_count": 9,
   "metadata": {},
   "outputs": [
    {
     "name": "stdout",
     "output_type": "stream",
     "text": [
      "1 es impar\n",
      "2 es par\n",
      "3 es impar\n",
      "4 es par\n",
      "5 es impar\n",
      "6 es par\n",
      "7 es impar\n",
      "8 es par\n",
      "9 es impar\n",
      "10 es par\n",
      "11 es impar\n",
      "12 es par\n",
      "13 es impar\n",
      "14 es par\n",
      "15 es impar\n",
      "16 es par\n",
      "17 es impar\n",
      "18 es par\n",
      "19 es impar\n",
      "20 es par\n"
     ]
    }
   ],
   "source": [
    "for a in range(1,21):\n",
    "    if a % 2 == 0:\n",
    "        print(str(a)+\" es par\")\n",
    "    else:\n",
    "       print(str(a)+\" es impar\")"
   ]
  },
  {
   "attachments": {},
   "cell_type": "markdown",
   "metadata": {},
   "source": [
    "4) En un ciclo for mostrar para los valores entre 0 y 5 el resultado de elevarlo a la potencia igual a 3"
   ]
  },
  {
   "cell_type": "code",
   "execution_count": 10,
   "metadata": {},
   "outputs": [
    {
     "name": "stdout",
     "output_type": "stream",
     "text": [
      "1\n",
      "8\n",
      "27\n",
      "64\n",
      "125\n"
     ]
    }
   ],
   "source": [
    "for b in range (1,6):\n",
    "    print(b**3)"
   ]
  },
  {
   "attachments": {},
   "cell_type": "markdown",
   "metadata": {},
   "source": [
    "5) Crear una variable que contenga un número entero y realizar un ciclo for la misma cantidad de ciclos"
   ]
  },
  {
   "cell_type": "code",
   "execution_count": 11,
   "metadata": {},
   "outputs": [
    {
     "name": "stdout",
     "output_type": "stream",
     "text": [
      "0\n",
      "1\n",
      "2\n",
      "3\n",
      "4\n",
      "5\n"
     ]
    }
   ],
   "source": [
    "c=6\n",
    "for m in range(0,c):\n",
    "    print(m)"
   ]
  },
  {
   "attachments": {},
   "cell_type": "markdown",
   "metadata": {},
   "source": [
    "6) Utilizar un ciclo while para realizar el factorial de un número guardado en una variable, sólo si la variable contiene un número entero mayor a 0"
   ]
  },
  {
   "cell_type": "code",
   "execution_count": 12,
   "metadata": {},
   "outputs": [
    {
     "name": "stdout",
     "output_type": "stream",
     "text": [
      "24\n"
     ]
    }
   ],
   "source": [
    "d = 4\n",
    "if (type(d)==int):\n",
    "    if (d>0):\n",
    "        factorial = d\n",
    "        while (d>2): \n",
    "                d = d-1\n",
    "                factorial= factorial * d\n",
    "        print(factorial)            \n",
    "    else:\n",
    "        print(\"El nro ingresado no es mayor a 0\")\n",
    "else:\n",
    "    print(\"El nro ingresado no es de tipo entero\")"
   ]
  },
  {
   "attachments": {},
   "cell_type": "markdown",
   "metadata": {},
   "source": [
    "7) Crear un ciclo for dentro de un ciclo while"
   ]
  },
  {
   "cell_type": "code",
   "execution_count": 13,
   "metadata": {},
   "outputs": [
    {
     "name": "stdout",
     "output_type": "stream",
     "text": [
      "4\n",
      "3\n",
      "2\n",
      "1\n",
      "0\n"
     ]
    }
   ],
   "source": [
    "cicfw=4\n",
    "ran=cicfw+1\n",
    "while (cicfw>0):\n",
    "    for dale in range(0,ran):\n",
    "        print(cicfw)\n",
    "        cicfw=cicfw-1"
   ]
  },
  {
   "attachments": {},
   "cell_type": "markdown",
   "metadata": {},
   "source": [
    "8) Crear un ciclo while dentro de un ciclo for"
   ]
  },
  {
   "cell_type": "code",
   "execution_count": 14,
   "metadata": {},
   "outputs": [
    {
     "name": "stdout",
     "output_type": "stream",
     "text": [
      "ciclo for 1\n",
      "4\n",
      "3\n",
      "2\n",
      "1\n",
      "ciclo for 2\n",
      "4\n",
      "3\n",
      "2\n",
      "1\n",
      "ciclo for 3\n",
      "4\n",
      "3\n",
      "2\n",
      "1\n"
     ]
    }
   ],
   "source": [
    "winf=4\n",
    "for l in range (1,winf):\n",
    "    winftemp=winf\n",
    "    print(\"ciclo for\", str(l))\n",
    "    while (winftemp>0):\n",
    "        print(winftemp)\n",
    "        winftemp=winftemp - 1\n",
    "    if winftemp >0:\n",
    "        break"
   ]
  },
  {
   "attachments": {},
   "cell_type": "markdown",
   "metadata": {},
   "source": [
    "9) Imprimir los números primos existentes entre 0 y 30"
   ]
  },
  {
   "cell_type": "code",
   "execution_count": 7,
   "metadata": {},
   "outputs": [
    {
     "name": "stdout",
     "output_type": "stream",
     "text": [
      "0\n",
      "1\n",
      "2\n",
      "3\n",
      "5\n",
      "7\n",
      "11\n",
      "13\n",
      "17\n",
      "19\n",
      "23\n",
      "29\n"
     ]
    }
   ],
   "source": [
    "rango30=30\n",
    "n=0\n",
    "primo=True\n",
    "while (n<rango30):\n",
    "    for senten in range (2,n):\n",
    "        if (n % senten == 0):\n",
    "            primo=False\n",
    "    if primo == True:\n",
    "        print(n)\n",
    "    else:\n",
    "        primo=True\n",
    "    n+=1"
   ]
  },
  {
   "attachments": {},
   "cell_type": "markdown",
   "metadata": {},
   "source": [
    "10) ¿Se puede mejorar el proceso del punto 9? Utilizar las sentencias break y/ó continue para tal fin"
   ]
  },
  {
   "cell_type": "code",
   "execution_count": 16,
   "metadata": {},
   "outputs": [
    {
     "name": "stdout",
     "output_type": "stream",
     "text": [
      "0\n",
      "1\n",
      "2\n",
      "3\n",
      "5\n",
      "7\n",
      "11\n",
      "13\n",
      "17\n",
      "19\n",
      "23\n",
      "29\n"
     ]
    }
   ],
   "source": [
    "rango30=30\n",
    "n=0\n",
    "primo=True\n",
    "while (n<rango30):\n",
    "    for senten in range (2,n):\n",
    "        if (n % senten == 0):\n",
    "            primo=False\n",
    "            break\n",
    "    if primo == True:\n",
    "        print(n)\n",
    "    else:\n",
    "        primo=True\n",
    "    n+=1"
   ]
  },
  {
   "attachments": {},
   "cell_type": "markdown",
   "metadata": {},
   "source": [
    "11) En los puntos 9 y 10, se diseño un código que encuentra números primos y además se lo optimizó. ¿Es posible saber en qué medida se optimizó?"
   ]
  },
  {
   "cell_type": "code",
   "execution_count": 18,
   "metadata": {},
   "outputs": [
    {
     "name": "stdout",
     "output_type": "stream",
     "text": [
      "0\n",
      "1\n",
      "2\n",
      "3\n",
      "5\n",
      "7\n",
      "11\n",
      "13\n",
      "17\n",
      "19\n",
      "23\n",
      "29\n",
      "Ciclos sin break 378\n"
     ]
    }
   ],
   "source": [
    "ciclos_sin_break=0\n",
    "n=0\n",
    "primo=True\n",
    "while (n<rango30):\n",
    "    for senten in range (2,n):\n",
    "        ciclos_sin_break +=1\n",
    "        if (n % senten == 0):\n",
    "            primo=False\n",
    "    if primo == True:\n",
    "        print(n)\n",
    "    else:\n",
    "        primo=True\n",
    "    n+=1\n",
    "print(\"Ciclos sin break\", str(ciclos_sin_break) )"
   ]
  },
  {
   "cell_type": "code",
   "execution_count": 27,
   "metadata": {},
   "outputs": [
    {
     "name": "stdout",
     "output_type": "stream",
     "text": [
      "0\n",
      "1\n",
      "2\n",
      "3\n",
      "5\n",
      "7\n",
      "11\n",
      "13\n",
      "17\n",
      "19\n",
      "23\n",
      "29\n",
      "Ciclos con break 134\n",
      "Se optimizo un:  35.44973544973545 %\n"
     ]
    }
   ],
   "source": [
    "rango30=30\n",
    "ciclos_con_break=0\n",
    "n=0\n",
    "primo=True\n",
    "while (n<rango30):\n",
    "    for senten in range (2,n):\n",
    "        ciclos_con_break += 1\n",
    "        if (n % senten == 0):\n",
    "            primo=False\n",
    "            break\n",
    "    if primo == True:\n",
    "        print(n)\n",
    "    else:\n",
    "        primo=True\n",
    "    n+=1\n",
    "print(\"Ciclos con break\", str(ciclos_con_break) )\n",
    "print (\"Se optimizo un: \", ((ciclos_con_break/ciclos_sin_break)*100),\"%\")"
   ]
  },
  {
   "attachments": {},
   "cell_type": "markdown",
   "metadata": {},
   "source": [
    "12) Aplicando continue, armar un ciclo while que solo imprima los valores divisibles por 12, dentro del rango de números de 100 a 300"
   ]
  },
  {
   "cell_type": "code",
   "execution_count": 23,
   "metadata": {},
   "outputs": [
    {
     "name": "stdout",
     "output_type": "stream",
     "text": [
      "100\n",
      "101\n",
      "102\n",
      "103\n",
      "104\n",
      "105\n",
      "106\n",
      "107\n",
      "109\n",
      "110\n",
      "111\n",
      "112\n",
      "113\n",
      "114\n",
      "115\n",
      "116\n",
      "117\n",
      "118\n",
      "119\n",
      "121\n",
      "122\n",
      "123\n",
      "124\n",
      "125\n",
      "126\n",
      "127\n",
      "128\n",
      "129\n",
      "130\n",
      "131\n",
      "133\n",
      "134\n",
      "135\n",
      "136\n",
      "137\n",
      "138\n",
      "139\n",
      "140\n",
      "141\n",
      "142\n",
      "143\n",
      "145\n",
      "146\n",
      "147\n",
      "148\n",
      "149\n",
      "150\n",
      "151\n",
      "152\n",
      "153\n",
      "154\n",
      "155\n",
      "157\n",
      "158\n",
      "159\n",
      "160\n",
      "161\n",
      "162\n",
      "163\n",
      "164\n",
      "165\n",
      "166\n",
      "167\n",
      "169\n",
      "170\n",
      "171\n",
      "172\n",
      "173\n",
      "174\n",
      "175\n",
      "176\n",
      "177\n",
      "178\n",
      "179\n",
      "181\n",
      "182\n",
      "183\n",
      "184\n",
      "185\n",
      "186\n",
      "187\n",
      "188\n",
      "189\n",
      "190\n",
      "191\n",
      "193\n",
      "194\n",
      "195\n",
      "196\n",
      "197\n",
      "198\n",
      "199\n",
      "200\n",
      "201\n",
      "202\n",
      "203\n",
      "205\n",
      "206\n",
      "207\n",
      "208\n",
      "209\n",
      "210\n",
      "211\n",
      "212\n",
      "213\n",
      "214\n",
      "215\n",
      "217\n",
      "218\n",
      "219\n",
      "220\n",
      "221\n",
      "222\n",
      "223\n",
      "224\n",
      "225\n",
      "226\n",
      "227\n",
      "229\n",
      "230\n",
      "231\n",
      "232\n",
      "233\n",
      "234\n",
      "235\n",
      "236\n",
      "237\n",
      "238\n",
      "239\n",
      "241\n",
      "242\n",
      "243\n",
      "244\n",
      "245\n",
      "246\n",
      "247\n",
      "248\n",
      "249\n",
      "250\n",
      "251\n",
      "253\n",
      "254\n",
      "255\n",
      "256\n",
      "257\n",
      "258\n",
      "259\n",
      "260\n",
      "261\n",
      "262\n",
      "263\n",
      "265\n",
      "266\n",
      "267\n",
      "268\n",
      "269\n",
      "270\n",
      "271\n",
      "272\n",
      "273\n",
      "274\n",
      "275\n",
      "277\n",
      "278\n",
      "279\n",
      "280\n",
      "281\n",
      "282\n",
      "283\n",
      "284\n",
      "285\n",
      "286\n",
      "287\n",
      "289\n",
      "290\n",
      "291\n",
      "292\n",
      "293\n",
      "294\n",
      "295\n",
      "296\n",
      "297\n",
      "298\n",
      "299\n",
      "301\n",
      "La cantidad de iteraciones son 202\n"
     ]
    }
   ],
   "source": [
    "numeros13=99\n",
    "contador1=0\n",
    "while numeros13<=300:\n",
    "    contador1+=1\n",
    "    numeros13+=1\n",
    "    if (numeros13%12 != 0):\n",
    "        continue\n",
    "    print (numeros13)\n",
    "print(\"La cantidad de iteraciones son\", contador1)    "
   ]
  },
  {
   "attachments": {},
   "cell_type": "markdown",
   "metadata": {},
   "source": [
    "13) Utilizar la función **input()** que permite hacer ingresos por teclado, para encontrar números primos y dar la opción al usario de buscar el siguiente"
   ]
  },
  {
   "cell_type": "code",
   "execution_count": 1,
   "metadata": {},
   "outputs": [
    {
     "name": "stdout",
     "output_type": "stream",
     "text": [
      "El nro ingresado es primo\n",
      "El nro ingresado es primo\n",
      "el nro inresado no es primo\n",
      "El nro ingresado es primo\n",
      "El nro ingresado es primo\n",
      "Gracias por consultar\n"
     ]
    }
   ],
   "source": [
    "primo2=True\n",
    "nroprimo=int(input (\"Ingresar un nro entero para analizar si es primo:\"))\n",
    "while nroprimo!=0:\n",
    "    for sentprimo in range (2,nroprimo):\n",
    "        if (nroprimo % sentprimo == 0):\n",
    "            print(\"el nro inresado no es primo\")\n",
    "            primo2=False\n",
    "            break\n",
    "        if primo2 == True:\n",
    "            print(\"El nro ingresado es primo\")\n",
    "            break\n",
    "        else:\n",
    "            primo2= True\n",
    "    nroprimo= int(input(\"Ingrese el siguiente nro a analizar o para salir ingrese 0:\"))\n",
    "print(\"Gracias por consultar\")"
   ]
  },
  {
   "attachments": {},
   "cell_type": "markdown",
   "metadata": {},
   "source": [
    "14) Crear un ciclo while que encuentre dentro del rango de 100 a 300 el primer número divisible por 3 y además múltiplo de 6"
   ]
  },
  {
   "cell_type": "code",
   "execution_count": 30,
   "metadata": {},
   "outputs": [
    {
     "name": "stdout",
     "output_type": "stream",
     "text": [
      "EL NRO 102 ES DIVISIBLE POR 3\n",
      "EL NRO 102 ES MULTIPLO DE 6\n",
      "EL NRO 105 ES DIVISIBLE POR 3\n",
      "EL NRO 108 ES DIVISIBLE POR 3\n",
      "EL NRO 108 ES MULTIPLO DE 6\n",
      "EL NRO 111 ES DIVISIBLE POR 3\n",
      "EL NRO 114 ES DIVISIBLE POR 3\n",
      "EL NRO 114 ES MULTIPLO DE 6\n",
      "EL NRO 117 ES DIVISIBLE POR 3\n",
      "EL NRO 120 ES DIVISIBLE POR 3\n",
      "EL NRO 120 ES MULTIPLO DE 6\n",
      "EL NRO 123 ES DIVISIBLE POR 3\n",
      "EL NRO 126 ES DIVISIBLE POR 3\n",
      "EL NRO 126 ES MULTIPLO DE 6\n",
      "EL NRO 129 ES DIVISIBLE POR 3\n",
      "EL NRO 132 ES DIVISIBLE POR 3\n",
      "EL NRO 132 ES MULTIPLO DE 6\n",
      "EL NRO 135 ES DIVISIBLE POR 3\n",
      "EL NRO 138 ES DIVISIBLE POR 3\n",
      "EL NRO 138 ES MULTIPLO DE 6\n",
      "EL NRO 141 ES DIVISIBLE POR 3\n",
      "EL NRO 144 ES DIVISIBLE POR 3\n",
      "EL NRO 144 ES MULTIPLO DE 6\n",
      "EL NRO 147 ES DIVISIBLE POR 3\n",
      "EL NRO 150 ES DIVISIBLE POR 3\n",
      "EL NRO 150 ES MULTIPLO DE 6\n",
      "EL NRO 153 ES DIVISIBLE POR 3\n",
      "EL NRO 156 ES DIVISIBLE POR 3\n",
      "EL NRO 156 ES MULTIPLO DE 6\n",
      "EL NRO 159 ES DIVISIBLE POR 3\n",
      "EL NRO 162 ES DIVISIBLE POR 3\n",
      "EL NRO 162 ES MULTIPLO DE 6\n",
      "EL NRO 165 ES DIVISIBLE POR 3\n",
      "EL NRO 168 ES DIVISIBLE POR 3\n",
      "EL NRO 168 ES MULTIPLO DE 6\n",
      "EL NRO 171 ES DIVISIBLE POR 3\n",
      "EL NRO 174 ES DIVISIBLE POR 3\n",
      "EL NRO 174 ES MULTIPLO DE 6\n",
      "EL NRO 177 ES DIVISIBLE POR 3\n",
      "EL NRO 180 ES DIVISIBLE POR 3\n",
      "EL NRO 180 ES MULTIPLO DE 6\n",
      "EL NRO 183 ES DIVISIBLE POR 3\n",
      "EL NRO 186 ES DIVISIBLE POR 3\n",
      "EL NRO 186 ES MULTIPLO DE 6\n",
      "EL NRO 189 ES DIVISIBLE POR 3\n",
      "EL NRO 192 ES DIVISIBLE POR 3\n",
      "EL NRO 192 ES MULTIPLO DE 6\n",
      "EL NRO 195 ES DIVISIBLE POR 3\n",
      "EL NRO 198 ES DIVISIBLE POR 3\n",
      "EL NRO 198 ES MULTIPLO DE 6\n",
      "EL NRO 201 ES DIVISIBLE POR 3\n",
      "EL NRO 204 ES DIVISIBLE POR 3\n",
      "EL NRO 204 ES MULTIPLO DE 6\n",
      "EL NRO 207 ES DIVISIBLE POR 3\n",
      "EL NRO 210 ES DIVISIBLE POR 3\n",
      "EL NRO 210 ES MULTIPLO DE 6\n",
      "EL NRO 213 ES DIVISIBLE POR 3\n",
      "EL NRO 216 ES DIVISIBLE POR 3\n",
      "EL NRO 216 ES MULTIPLO DE 6\n",
      "EL NRO 219 ES DIVISIBLE POR 3\n",
      "EL NRO 222 ES DIVISIBLE POR 3\n",
      "EL NRO 222 ES MULTIPLO DE 6\n",
      "EL NRO 225 ES DIVISIBLE POR 3\n",
      "EL NRO 228 ES DIVISIBLE POR 3\n",
      "EL NRO 228 ES MULTIPLO DE 6\n",
      "EL NRO 231 ES DIVISIBLE POR 3\n",
      "EL NRO 234 ES DIVISIBLE POR 3\n",
      "EL NRO 234 ES MULTIPLO DE 6\n",
      "EL NRO 237 ES DIVISIBLE POR 3\n",
      "EL NRO 240 ES DIVISIBLE POR 3\n",
      "EL NRO 240 ES MULTIPLO DE 6\n",
      "EL NRO 243 ES DIVISIBLE POR 3\n",
      "EL NRO 246 ES DIVISIBLE POR 3\n",
      "EL NRO 246 ES MULTIPLO DE 6\n",
      "EL NRO 249 ES DIVISIBLE POR 3\n",
      "EL NRO 252 ES DIVISIBLE POR 3\n",
      "EL NRO 252 ES MULTIPLO DE 6\n",
      "EL NRO 255 ES DIVISIBLE POR 3\n",
      "EL NRO 258 ES DIVISIBLE POR 3\n",
      "EL NRO 258 ES MULTIPLO DE 6\n",
      "EL NRO 261 ES DIVISIBLE POR 3\n",
      "EL NRO 264 ES DIVISIBLE POR 3\n",
      "EL NRO 264 ES MULTIPLO DE 6\n",
      "EL NRO 267 ES DIVISIBLE POR 3\n",
      "EL NRO 270 ES DIVISIBLE POR 3\n",
      "EL NRO 270 ES MULTIPLO DE 6\n",
      "EL NRO 273 ES DIVISIBLE POR 3\n",
      "EL NRO 276 ES DIVISIBLE POR 3\n",
      "EL NRO 276 ES MULTIPLO DE 6\n",
      "EL NRO 279 ES DIVISIBLE POR 3\n",
      "EL NRO 282 ES DIVISIBLE POR 3\n",
      "EL NRO 282 ES MULTIPLO DE 6\n",
      "EL NRO 285 ES DIVISIBLE POR 3\n",
      "EL NRO 288 ES DIVISIBLE POR 3\n",
      "EL NRO 288 ES MULTIPLO DE 6\n",
      "EL NRO 291 ES DIVISIBLE POR 3\n",
      "EL NRO 294 ES DIVISIBLE POR 3\n",
      "EL NRO 294 ES MULTIPLO DE 6\n",
      "EL NRO 297 ES DIVISIBLE POR 3\n",
      "EL NRO 300 ES DIVISIBLE POR 3\n",
      "EL NRO 300 ES MULTIPLO DE 6\n"
     ]
    }
   ],
   "source": [
    "rango13=100\n",
    "while (rango13<301):\n",
    "    if rango13 % 3 == 0:\n",
    "        print (f\"EL NRO {rango13} ES DIVISIBLE POR 3\")\n",
    "    if rango13 % 6 == 0:\n",
    "           print (f\"EL NRO {rango13} ES MULTIPLO DE 6\") \n",
    "    rango13+=1\n"
   ]
  }
 ],
 "metadata": {
  "interpreter": {
   "hash": "c85384e4cb51c8b72350f3a8712cc8351fdc3955e32a27f9b60c6242ab125f01"
  },
  "kernelspec": {
   "display_name": "Python 3 (ipykernel)",
   "language": "python",
   "name": "python3"
  },
  "language_info": {
   "codemirror_mode": {
    "name": "ipython",
    "version": 3
   },
   "file_extension": ".py",
   "mimetype": "text/x-python",
   "name": "python",
   "nbconvert_exporter": "python",
   "pygments_lexer": "ipython3",
   "version": "3.10.11"
  }
 },
 "nbformat": 4,
 "nbformat_minor": 4
}

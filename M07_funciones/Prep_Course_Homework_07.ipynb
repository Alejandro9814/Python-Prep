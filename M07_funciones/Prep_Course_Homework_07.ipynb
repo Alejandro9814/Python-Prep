{
 "cells": [
  {
   "attachments": {},
   "cell_type": "markdown",
   "metadata": {},
   "source": [
    "## Funciones"
   ]
  },
  {
   "attachments": {},
   "cell_type": "markdown",
   "metadata": {},
   "source": [
    "1) Crear una función que reciba un número como parámetro y devuelva True si es primo y False si no lo es"
   ]
  },
  {
   "cell_type": "code",
   "execution_count": 50,
   "metadata": {},
   "outputs": [],
   "source": [
    "def funpri (nrv):\n",
    "    primo = True\n",
    "    if (type(nrv) == int):\n",
    "        for x in range (2,nrv):\n",
    "            if (nrv % x == 0) :\n",
    "                primo = False\n",
    "                return (primo)\n",
    "                break\n",
    "        if primo == True:\n",
    "            return (primo)\n",
    "    else:\n",
    "        print (\"ingrese un nro entero\")            "
   ]
  },
  {
   "cell_type": "code",
   "execution_count": 49,
   "metadata": {},
   "outputs": [
    {
     "name": "stdout",
     "output_type": "stream",
     "text": [
      "False\n"
     ]
    }
   ],
   "source": [
    "funpri(10)"
   ]
  },
  {
   "attachments": {},
   "cell_type": "markdown",
   "metadata": {},
   "source": [
    "2) Utilizando la función del punto 1, realizar otra función que reciba de parámetro una lista de números y devuelva sólo aquellos que son primos en otra lista"
   ]
  },
  {
   "cell_type": "code",
   "execution_count": 62,
   "metadata": {},
   "outputs": [],
   "source": [
    "def funlispri (varnl):\n",
    "    listapri=[]\n",
    "    for zn in varnl:\n",
    "        if funpri(zn) == True:\n",
    "            listapri.append (zn)\n",
    "    return listapri       "
   ]
  },
  {
   "cell_type": "code",
   "execution_count": 63,
   "metadata": {},
   "outputs": [
    {
     "data": {
      "text/plain": [
       "[3, 5, 29, 31, 7]"
      ]
     },
     "execution_count": 63,
     "metadata": {},
     "output_type": "execute_result"
    }
   ],
   "source": [
    "lista1= [3,4,5,6,29,33,31,14,7]\n",
    "funlispri (lista1)"
   ]
  },
  {
   "attachments": {},
   "cell_type": "markdown",
   "metadata": {},
   "source": [
    "3) Crear una función que al recibir una lista de números, devuelva el que más se repite y cuántas veces lo hace. Si hay más de un \"más repetido\", que devuelva cualquiera"
   ]
  },
  {
   "cell_type": "code",
   "execution_count": 1,
   "metadata": {},
   "outputs": [],
   "source": [
    "def funcrep(vrrep):\n",
    "    lisrep= []\n",
    "    for elem in vrrep:\n",
    "        canrep = vrrep.count(elem)\n",
    "        lisrep.append(canrep)\n",
    "        if vrrep.count(elem) == max(lisrep):\n",
    "            nromasrep = elem       \n",
    "    print (\"El nro se repite\", max(lisrep), \"veces, y es\", nromasrep)"
   ]
  },
  {
   "cell_type": "code",
   "execution_count": 2,
   "metadata": {},
   "outputs": [
    {
     "name": "stdout",
     "output_type": "stream",
     "text": [
      "El nro se repite 5 veces, y es 3\n"
     ]
    }
   ],
   "source": [
    "listans= [2,3,4,5,6,7,7,3,3,2,4,5,2,5,3,3,2,7]\n",
    "funcrep (listans)"
   ]
  },
  {
   "attachments": {},
   "cell_type": "markdown",
   "metadata": {},
   "source": [
    "4) Crear una función que convierta entre grados Celsius, Farenheit y Kelvin<br>\n",
    "Fórmula 1\t: (°C × 9/5) + 32 = °F<br>\n",
    "Fórmula 2\t: °C + 273.15 = °K<br>\n",
    "Debe recibir 3 parámetros: el valor, la medida de orígen y la medida de destino\n"
   ]
  },
  {
   "cell_type": "code",
   "execution_count": 99,
   "metadata": {},
   "outputs": [],
   "source": [
    "def convgr (vl, umo, umd):\n",
    "    if umo == \"F\" and umd == \"C\" :\n",
    "        nvl = (vl - 32) / (9/5)\n",
    "        print (vl, \"F°, es igual a: \", nvl, \"C°\")\n",
    "    elif umo == \"F\" and umd == \"K\" :\n",
    "        nvl = ((vl - 32) / (9/5)) + 273.15\n",
    "        print (vl, \"F°, es igual a: \", nvl, \"K°\")\n",
    "    elif umo == \"C\" and umd == \"F\" :\n",
    "        nvl = (vl * (9/5)) + 32\n",
    "        print (vl, \"C°, es igual a: \", nvl, \"F°\")\n",
    "    elif umo == \"C\" and umd == \"K\" :\n",
    "        nvl = vl + 273,15\n",
    "        print (vl, \"C°, es igual a: \", nvl, \"K°\")\n",
    "    elif umo == \"K\" and umd == \"F\" :\n",
    "        nvl = (vl - 273.15) * (9/5) +32\n",
    "        print (vl, \"K°, es igual a: \", nvl, \"F°\")\n",
    "    elif umo == \"K\" and umd == \"C\" :\n",
    "        nvl = vl - 273.15\n",
    "        print (vl, \"K°, es igual a: \", nvl, \"C°\")\n",
    "    else:\n",
    "        print(\"La unidad de destino es igual a la de origen, por lo tanto el valor es igual a:\", vl, umo,\"°\")"
   ]
  },
  {
   "cell_type": "code",
   "execution_count": 100,
   "metadata": {},
   "outputs": [
    {
     "name": "stdout",
     "output_type": "stream",
     "text": [
      "La unidad de destino es igual a la de origen, por lo tanto el valor es igual a: 20 F °\n"
     ]
    }
   ],
   "source": [
    "convgr(20,\"F\",\"F\")"
   ]
  },
  {
   "attachments": {},
   "cell_type": "markdown",
   "metadata": {},
   "source": [
    "5) Iterando una lista con los tres valores posibles de temperatura que recibe la función del punto 5, hacer un print para cada combinación de los mismos:"
   ]
  },
  {
   "cell_type": "code",
   "execution_count": 116,
   "metadata": {},
   "outputs": [
    {
     "name": "stdout",
     "output_type": "stream",
     "text": [
      "100 C°, es igual a:  (373, 15) K°\n",
      "100 C°, es igual a:  212.0 F°\n",
      "100 F°, es igual a:  37.77777777777778 C°\n",
      "100 F°, es igual a:  310.92777777777775 K°\n",
      "100 K°, es igual a:  -173.14999999999998 C°\n",
      "100 K°, es igual a:  -279.66999999999996 F°\n",
      "80 C°, es igual a:  (353, 15) K°\n",
      "80 C°, es igual a:  176.0 F°\n",
      "80 F°, es igual a:  26.666666666666664 C°\n",
      "80 F°, es igual a:  299.81666666666666 K°\n",
      "80 K°, es igual a:  -193.14999999999998 C°\n",
      "80 K°, es igual a:  -315.66999999999996 F°\n",
      "20 C°, es igual a:  (293, 15) K°\n",
      "20 C°, es igual a:  68.0 F°\n",
      "20 F°, es igual a:  -6.666666666666666 C°\n",
      "20 F°, es igual a:  266.4833333333333 K°\n",
      "20 K°, es igual a:  -253.14999999999998 C°\n",
      "20 K°, es igual a:  -423.66999999999996 F°\n"
     ]
    }
   ],
   "source": [
    "lisit= [100,80,20]\n",
    "for rec in lisit:\n",
    "    convgr(rec,\"C\",\"K\")\n",
    "    convgr(rec,\"C\",\"F\")\n",
    "    convgr(rec,\"F\",\"C\")\n",
    "    convgr(rec,\"F\",\"K\")\n",
    "    convgr(rec,\"K\",\"C\")\n",
    "    convgr(rec,\"K\",\"F\")\n"
   ]
  },
  {
   "attachments": {},
   "cell_type": "markdown",
   "metadata": {},
   "source": [
    "6) Armar una función que devuelva el factorial de un número. Tener en cuenta que el usuario puede equivocarse y enviar de parámetro un número no entero o negativo"
   ]
  },
  {
   "cell_type": "code",
   "execution_count": 6,
   "metadata": {},
   "outputs": [],
   "source": [
    "def funfac (vlfac):\n",
    "    if type (vlfac) == int:\n",
    "        if vlfac > 0 :\n",
    "            for xf in range (2,vlfac):\n",
    "                vlfac = vlfac * xf\n",
    "            return vlfac\n",
    "        else:\n",
    "            print (\"El nro ingresado no es positivo\")\n",
    "    else:\n",
    "        print (\"El valor ingresado no es un entero\")            "
   ]
  },
  {
   "cell_type": "code",
   "execution_count": 7,
   "metadata": {},
   "outputs": [
    {
     "data": {
      "text/plain": [
       "24"
      ]
     },
     "execution_count": 7,
     "metadata": {},
     "output_type": "execute_result"
    }
   ],
   "source": [
    "funfac(4)"
   ]
  }
 ],
 "metadata": {
  "interpreter": {
   "hash": "c85384e4cb51c8b72350f3a8712cc8351fdc3955e32a27f9b60c6242ab125f01"
  },
  "kernelspec": {
   "display_name": "Python 3 (ipykernel)",
   "language": "python",
   "name": "python3"
  },
  "language_info": {
   "codemirror_mode": {
    "name": "ipython",
    "version": 3
   },
   "file_extension": ".py",
   "mimetype": "text/x-python",
   "name": "python",
   "nbconvert_exporter": "python",
   "pygments_lexer": "ipython3",
   "version": "3.10.11"
  }
 },
 "nbformat": 4,
 "nbformat_minor": 4
}

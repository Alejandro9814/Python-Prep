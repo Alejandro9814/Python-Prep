{
 "cells": [
  {
   "cell_type": "code",
   "execution_count": 1,
   "metadata": {},
   "outputs": [
    {
     "name": "stdout",
     "output_type": "stream",
     "text": [
      "Bienvenidos a la calculadora de Ale\n",
      "Las operaciones que se pueden llevar a cabo son multi, division, suma y resta\n",
      "Para salir ingrese salir\n",
      "40.0\n",
      "Gracias por consultar!\n"
     ]
    }
   ],
   "source": [
    "print(\"Bienvenidos a la calculadora de Ale\")\n",
    "print(\"Las operaciones que se pueden llevar a cabo son multi, division, suma y resta\")\n",
    "print(\"Para salir ingrese salir\")\n",
    "primernro=float(input(\"Ingrese un nro\"))\n",
    "sentencia=True\n",
    "while sentencia:\n",
    "    operacion=str(input(\"Ingrese operación a realizar:\"))   \n",
    "    if operacion == \"salir\":   \n",
    "        sentencia = False\n",
    "    elif operacion == \"division\":\n",
    "        numer=float(input(\"Ingrese otro nro para operar:\"))\n",
    "        primernro/=numer\n",
    "        print(primernro)\n",
    "    elif operacion == \"suma\":\n",
    "        numer=float(input(\"Ingrese otro nro para operar:\"))\n",
    "        primernro+=numer\n",
    "        print(primernro)\n",
    "    elif operacion == \"resta\":  \n",
    "        numer=float(input(\"Ingrese otro nro para operar:\"))\n",
    "        primernro-=numer\n",
    "        print(primernro)\n",
    "    elif operacion == \"multi\":\n",
    "        numer=float(input(\"Ingrese otro nro para operar:\"))\n",
    "        primernro*=numer\n",
    "        print(primernro) \n",
    "print(\"Gracias por consultar!\")"
   ]
  },
  {
   "cell_type": "code",
   "execution_count": 10,
   "metadata": {},
   "outputs": [
    {
     "name": "stdout",
     "output_type": "stream",
     "text": [
      "[10, 9, 8, 7, 6, 5, 4, 3, 1]\n"
     ]
    }
   ],
   "source": [
    "mi_lista=[3,5,4,6,7,9,8,10,1]\n",
    "mi_lista.sort(reverse=True) #ordena de mayor a menor, ya que sort la ordenará de menor a mayor y (reverse=True) la invertirá,\n",
    "#se puede hacer en 2 pasos ordenando de menor a mayor y luego invirtiendo la lista y entregando este último valor.\n",
    "print(mi_lista)"
   ]
  },
  {
   "cell_type": "code",
   "execution_count": 15,
   "metadata": {},
   "outputs": [
    {
     "name": "stdout",
     "output_type": "stream",
     "text": [
      "[1, 3, 4, 5, 6, 7, 8, 9, 10]\n"
     ]
    }
   ],
   "source": [
    "mi_lista=[3,5,4,6,7,9,8,10,1]\n",
    "mi_lista.sort() #ordena de menor a mayor la lista\n",
    "print(mi_lista)"
   ]
  },
  {
   "cell_type": "code",
   "execution_count": 16,
   "metadata": {},
   "outputs": [
    {
     "name": "stdout",
     "output_type": "stream",
     "text": [
      "[10, 9, 8, 7, 6, 5, 4, 3, 1]\n"
     ]
    }
   ],
   "source": [
    "mi_lista.reverse()\n",
    "print(mi_lista)"
   ]
  }
 ],
 "metadata": {
  "kernelspec": {
   "display_name": "Python 3",
   "language": "python",
   "name": "python3"
  },
  "language_info": {
   "codemirror_mode": {
    "name": "ipython",
    "version": 3
   },
   "file_extension": ".py",
   "mimetype": "text/x-python",
   "name": "python",
   "nbconvert_exporter": "python",
   "pygments_lexer": "ipython3",
   "version": "3.10.11"
  }
 },
 "nbformat": 4,
 "nbformat_minor": 2
}

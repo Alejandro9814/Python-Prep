{
 "cells": [
  {
   "cell_type": "markdown",
   "metadata": {},
   "source": [
    "1) Crear un script con el nombre \"clase09_ej1.py\" que reciba 3 parametros a elección, verificando que sean exactamente esa cantidad, y muestre como salida los parámetros recibidos"
   ]
  },
  {
   "cell_type": "markdown",
   "metadata": {},
   "source": [
    "2) Crear un script con el nombre \"clase09_ej2.py2\" que reciba como un valor de temperatura en grados centígrados, un valor de humedad y por último si llovio (Con True o False). Y que cada vez que sea invocado, cargue en el archivo provisto \"clase09_ej2.csv\" una marca de tiempo y esa información."
   ]
  },
  {
   "cell_type": "code",
   "execution_count": null,
   "metadata": {},
   "outputs": [],
   "source": [
    "import datetime\n",
    "import os"
   ]
  },
  {
   "cell_type": "code",
   "execution_count": null,
   "metadata": {},
   "outputs": [],
   "source": [
    "h = datetime.datetime.now()\n",
    "print (\"ahora: \", h)"
   ]
  },
  {
   "cell_type": "markdown",
   "metadata": {},
   "source": [
    "3) Crear un archivo a partir de los datos presentes en el diccionario provisto. El cual debe contener en la primera fila el nombre de las claves y luego cada línea los elementos i-ésimos de las listas de valores contiguos y separados por coma ','. Este archivo debe llamarse clase09_ej3.csv"
   ]
  },
  {
   "cell_type": "code",
   "execution_count": null,
   "metadata": {},
   "outputs": [],
   "source": [
    "montañas = {'nombre':[  'Everest','K2','Kanchenjunga','Lhotse','Makalu',\n",
    "                        'Cho Oyu','Dhaulagiri','Manaslu','Nanga Parbat','Annapurna I'],\n",
    "            'orden':[1,2,3,4,5,6,7,8,9,10] ,\n",
    "            'cordillera':['Himalaya','Karakorum','Himalaya','Himalaya','Himalaya'\n",
    "                        ,'Himalaya','Himalaya','Himalaya','Karakórum','Himalaya'],\n",
    "            'pais': ['Nepal','Pakistan','Nepal','Nepal','Nepal','Nepal','Nepal','Nepal',\n",
    "                    'Pakistán','Nepal'],\n",
    "            'altura':[8849,8611,8586,8516,8485,8188,8167,8163,8125,8091]}"
   ]
  },
  {
   "cell_type": "code",
   "execution_count": null,
   "metadata": {},
   "outputs": [],
   "source": [
    "import os\n",
    "archivo = open('clase10_ej3.csv', 'w')"
   ]
  },
  {
   "cell_type": "code",
   "execution_count": null,
   "metadata": {},
   "outputs": [],
   "source": [
    "for clave in montañas.keys():\n",
    "    if (clave == 'altura'):\n",
    "        archivo.write(clave+'\\n')\n",
    "    else:\n",
    "        archivo.write(clave+',')"
   ]
  },
  {
   "cell_type": "code",
   "execution_count": null,
   "metadata": {},
   "outputs": [],
   "source": [
    "ultposicion = len(montañas[\"orden\"]) #a diferencia del archivo resuelto cree una variable que guarde la longitud de la lista del diccionario,\n",
    "#para evitar contar la cantidad de elementos y si se agregan elementos se ejecutará de manera correcta evitando modificar el iterable \n",
    "for varl in range (0,ultposicion):\n",
    "    archivo.write(montañas['nombre'][varl]+',')\n",
    "    archivo.write(str(montañas['orden'][varl])+',')\n",
    "    archivo.write(montañas['cordillera'][varl]+',')\n",
    "    archivo.write(montañas['pais'][varl]+',')\n",
    "    archivo.write(str(montañas['altura'][varl])+'\\n')\n",
    "\n",
    "archivo.close ()"
   ]
  },
  {
   "cell_type": "markdown",
   "metadata": {},
   "source": [
    "4) Mostrar el tamaño en MB del archivo generado en el punto 3"
   ]
  },
  {
   "cell_type": "code",
   "execution_count": 42,
   "metadata": {},
   "outputs": [
    {
     "name": "stdout",
     "output_type": "stream",
     "text": [
      "El tamaño del archivo es: 0.36 MB\n"
     ]
    }
   ],
   "source": [
    "import os\n",
    "print (\"El tamaño del archivo es:\", str(round(os.path.getsize(\"clase10_ej3.csv\")/1024 , 2)),\"MB\")"
   ]
  },
  {
   "cell_type": "markdown",
   "metadata": {},
   "source": [
    "5) Crear una carpeta llamada clase09_montañas_altas"
   ]
  },
  {
   "cell_type": "code",
   "execution_count": 43,
   "metadata": {},
   "outputs": [],
   "source": [
    "os.makedirs(\"clase10_montañas_altas\")"
   ]
  },
  {
   "cell_type": "markdown",
   "metadata": {},
   "source": [
    "6) Copiar el archivo clase09_ej3.scv en la carpeta clase09_montañas_altas usando la sentencia **os.system**"
   ]
  },
  {
   "cell_type": "code",
   "execution_count": 46,
   "metadata": {},
   "outputs": [
    {
     "data": {
      "text/plain": [
       "0"
      ]
     },
     "execution_count": 46,
     "metadata": {},
     "output_type": "execute_result"
    }
   ],
   "source": [
    "os.system (\"copy clase10_ej3.csv clase10_montañas_altas\")"
   ]
  },
  {
   "cell_type": "markdown",
   "metadata": {},
   "source": [
    "7) Listar el contenido de la carpeta"
   ]
  },
  {
   "cell_type": "code",
   "execution_count": 47,
   "metadata": {},
   "outputs": [
    {
     "data": {
      "text/plain": [
       "['clase10_ej3.csv']"
      ]
     },
     "execution_count": 47,
     "metadata": {},
     "output_type": "execute_result"
    }
   ],
   "source": [
    "os.listdir(\"./clase10_montañas_altas\")"
   ]
  }
 ],
 "metadata": {
  "kernelspec": {
   "display_name": "Python 3",
   "language": "python",
   "name": "python3"
  },
  "language_info": {
   "codemirror_mode": {
    "name": "ipython",
    "version": 3
   },
   "file_extension": ".py",
   "mimetype": "text/x-python",
   "name": "python",
   "nbconvert_exporter": "python",
   "pygments_lexer": "ipython3",
   "version": "3.10.11"
  }
 },
 "nbformat": 4,
 "nbformat_minor": 2
}

{
 "cells": [
  {
   "attachments": {},
   "cell_type": "markdown",
   "metadata": {},
   "source": [
    "## Clases y Programación Orientada a Objetos"
   ]
  },
  {
   "attachments": {},
   "cell_type": "markdown",
   "metadata": {},
   "source": [
    "1) Crear la clase vehículo que contenga los atributos:<br>\n",
    "Color<br>\n",
    "Si es moto, auto, camioneta ó camión<br>\n",
    "Cilindrada del motor"
   ]
  },
  {
   "cell_type": "code",
   "execution_count": null,
   "metadata": {},
   "outputs": [],
   "source": [
    "class Vehiculo:\n",
    "    \n",
    "    def __init__(self, color, tipo, cilindrada):\n",
    "        self.color = color\n",
    "        self.tipo = tipo\n",
    "        self.cilindrada = cilindrada"
   ]
  },
  {
   "attachments": {},
   "cell_type": "markdown",
   "metadata": {},
   "source": [
    "2) A la clase Vehiculo creada en el punto 1, agregar los siguientes métodos:<br>\n",
    "Acelerar<br>\n",
    "Frenar<br>\n",
    "Doblar<br>"
   ]
  },
  {
   "cell_type": "code",
   "execution_count": null,
   "metadata": {},
   "outputs": [],
   "source": [
    "class Vehiculo:\n",
    "    \n",
    "    def __init__(self, color, tipo, cilindrada):\n",
    "        self.color = color\n",
    "        self.tipo = tipo\n",
    "        self.cilindrada = cilindrada\n",
    "        self.direccion = \"\"\n",
    "        self.velocidad = 0\n",
    "    def acelerar (self, vel):\n",
    "        self.velocidad += vel\n",
    "    def frenar (self, vel):\n",
    "        self.velocidad -= vel\n",
    "    def doblar (self,dir):\n",
    "        self.direccion = dir\n",
    "    def estado (self):\n",
    "        print (\"El vehículo va a una velocidad de\", self.velocidad, \"kmh y en dirección\", self.direccion)\n",
    "    def cargral (self):\n",
    "        print (\"Tipo de vehículo:\", self.tipo, \"es de color:\", self.color, \"y de cilindrada:\", self.cilindrada) "
   ]
  },
  {
   "attachments": {},
   "cell_type": "markdown",
   "metadata": {},
   "source": [
    "3) Instanciar 3 objetos de la clase vehículo y ejecutar sus métodos, probar luego el resultado"
   ]
  },
  {
   "cell_type": "code",
   "execution_count": null,
   "metadata": {},
   "outputs": [],
   "source": [
    "dominar = Vehiculo (\"verde\",\"moto\",400)\n",
    "rouser = Vehiculo (\"negra\",\"moto\", 200)\n",
    "multistrada = Vehiculo (\"roja\",\"moto\",950)"
   ]
  },
  {
   "cell_type": "code",
   "execution_count": null,
   "metadata": {},
   "outputs": [],
   "source": [
    "dominar.acelerar (70)\n",
    "rouser.acelerar (45)\n",
    "multistrada.acelerar (100)\n",
    "dominar.acelerar (30)\n",
    "rouser.frenar (15)\n",
    "rouser.doblar (\"norte\")\n",
    "multistrada.frenar (60)\n",
    "multistrada.doblar (\"sur\")\n",
    "dominar.frenar (50)\n",
    "dominar.doblar(\"Este\")"
   ]
  },
  {
   "attachments": {},
   "cell_type": "markdown",
   "metadata": {},
   "source": [
    "4) Agregar a la clase Vehiculo, un método que muestre su estado, es decir, a que velocidad se encuentra y su dirección. Y otro método que muestre color, tipo y cilindrada"
   ]
  },
  {
   "cell_type": "code",
   "execution_count": null,
   "metadata": {},
   "outputs": [],
   "source": [
    "dominar.estado()\n",
    "dominar.cargral()"
   ]
  },
  {
   "attachments": {},
   "cell_type": "markdown",
   "metadata": {},
   "source": [
    "5) Crear una clase que permita utilizar las funciones creadas en la práctica del módulo 7<br>\n",
    "Verificar Primo<br>\n",
    "Valor modal<br>\n",
    "Conversión grados<br>\n",
    "Factorial<br>"
   ]
  },
  {
   "cell_type": "code",
   "execution_count": null,
   "metadata": {},
   "outputs": [],
   "source": [
    "class Calcular:\n",
    "    def __init__(self) -> None:\n",
    "        pass\n",
    "\n",
    "    def funpri (self, nrv):\n",
    "        primo = True\n",
    "        if (type(nrv) == int):\n",
    "            for x in range (2,nrv):\n",
    "                if (nrv % x == 0) :\n",
    "                    primo = False\n",
    "                    return (primo)\n",
    "                    break\n",
    "                if primo == True:\n",
    "                    return (primo)\n",
    "        else:\n",
    "            print (\"ingrese un nro entero\")\n",
    "\n",
    "    def funcrep (self, vrrep):\n",
    "        lisrep = []\n",
    "        for elem in vrrep:\n",
    "            canrep = vrrep.count(elem)\n",
    "            lisrep.append(canrep)\n",
    "            if vrrep.count(elem) == max(lisrep):\n",
    "                nromasrep = elem       \n",
    "        mlis= max(lisrep)\n",
    "        return nromasrep, mlis\n",
    "\n",
    "    def convgr (self, vl, umo, umd):\n",
    "        if umo == \"F\" and umd == \"C\" :\n",
    "            nvl = (vl - 32) / (9/5)\n",
    "            print (vl, \"F°, es igual a: \", nvl, \"C°\")\n",
    "        elif umo == \"F\" and umd == \"K\" :\n",
    "            nvl = ((vl - 32) / (9/5)) + 273.15\n",
    "            print (vl, \"F°, es igual a: \", nvl, \"K°\")\n",
    "        elif umo == \"C\" and umd == \"F\" :\n",
    "            nvl = (vl * (9/5)) + 32\n",
    "            print (vl, \"C°, es igual a: \", nvl, \"F°\")\n",
    "        elif umo == \"C\" and umd == \"K\" :\n",
    "            nvl = vl + 273,15\n",
    "            print (vl, \"C°, es igual a: \", nvl, \"K°\")\n",
    "        elif umo == \"K\" and umd == \"F\" :\n",
    "            nvl = (vl - 273.15) * (9/5) +32\n",
    "            print (vl, \"K°, es igual a: \", nvl, \"F°\")\n",
    "        elif umo == \"K\" and umd == \"C\" :\n",
    "            nvl = vl - 273.15\n",
    "            print (vl, \"K°, es igual a: \", nvl, \"C°\")\n",
    "        else:\n",
    "            print(\"La unidad de destino es igual a la de origen, por lo tanto el valor es igual a:\", vl, umo,\"°\")\n",
    "\n",
    "    def funfac (self, vlfac):\n",
    "        if type (vlfac) == int:\n",
    "            if vlfac > 0 :\n",
    "                for xf in range (2,vlfac):\n",
    "                    vlfac = vlfac * xf\n",
    "                return vlfac\n",
    "            else:\n",
    "                print (\"El nro ingresado no es positivo\")\n",
    "        else:\n",
    "            print (\"El valor ingresado no es un entero\")   "
   ]
  },
  {
   "cell_type": "code",
   "execution_count": null,
   "metadata": {},
   "outputs": [],
   "source": [
    "h = Calcular ()"
   ]
  },
  {
   "attachments": {},
   "cell_type": "markdown",
   "metadata": {},
   "source": [
    "6) Probar las funciones incorporadas en la clase del punto 5"
   ]
  },
  {
   "cell_type": "code",
   "execution_count": null,
   "metadata": {},
   "outputs": [],
   "source": [
    "h.convgr (90, \"F\", \"C\")"
   ]
  },
  {
   "cell_type": "code",
   "execution_count": null,
   "metadata": {},
   "outputs": [],
   "source": [
    "h.funpri (30)"
   ]
  },
  {
   "cell_type": "code",
   "execution_count": null,
   "metadata": {},
   "outputs": [],
   "source": [
    "lischeck = [3,2,2,5,6,7,5,8,9,7,8,9,2,1,1,4,5,6,4,4,4,6,4]\n",
    "num, cant = h.funcrep (lischeck)\n",
    "print (\"el numero es que más se repite es\", num)\n",
    "print (\"y se repite\", cant, \"veces\")"
   ]
  },
  {
   "attachments": {},
   "cell_type": "markdown",
   "metadata": {},
   "source": [
    "7) Es necesario que la clase creada en el punto 5 contenga una lista, sobre la cual se apliquen las funciones incorporadas"
   ]
  },
  {
   "cell_type": "code",
   "execution_count": null,
   "metadata": {},
   "outputs": [],
   "source": [
    "#Manera de resolver que me plantee yo, antes de entender cómo funcionaba la manera en la que estaba en el archivo resuelto.\n",
    "class Calcular:\n",
    "    def __init__(self,lista_cl):\n",
    "        self.listacl = lista_cl\n",
    "    \n",
    "\n",
    "    def funpri (self):\n",
    "        for j in self.listacl:\n",
    "            primo = True\n",
    "            if (type(j) == int):\n",
    "                for x in range (2,j):\n",
    "                    if (j % x == 0) :\n",
    "                        primo = False\n",
    "                        break\n",
    "                if primo:\n",
    "                    print (j, \"Es primo\")\n",
    "                else:\n",
    "                    print (j, \"No es primo\")\n",
    "            else:\n",
    "                print (\"ingrese un nro entero\")\n",
    "\n",
    "    def funcrep (self):\n",
    "        lisrep = []\n",
    "        for elem in self.listacl:\n",
    "            canrep = self.listacl.count(elem)\n",
    "            lisrep.append(canrep)\n",
    "            if self.listacl.count(elem) == max(lisrep):\n",
    "                nromasrep = elem       \n",
    "        mlis= max(lisrep)\n",
    "        print (\"El nro más rep es:\", nromasrep,\"y se repite\", mlis, \"veces\")\n",
    "\n",
    "    def convgr (self, umo, umd):\n",
    "        for k in self.listacl:\n",
    "            if umo == \"F\" and umd == \"C\" :\n",
    "                nvl = (k - 32) / (9/5)\n",
    "                print (k, \"F°, es igual a: \", nvl, \"C°\")\n",
    "            elif umo == \"F\" and umd == \"K\" :\n",
    "                nvl = ((k - 32) / (9/5)) + 273.15\n",
    "                print (k, \"F°, es igual a: \", nvl, \"K°\")\n",
    "            elif umo == \"C\" and umd == \"F\" :\n",
    "                nvl = (k * (9/5)) + 32\n",
    "                print (k, \"C°, es igual a: \", nvl, \"F°\")\n",
    "            elif umo == \"C\" and umd == \"K\" :\n",
    "                nvl = k + 273,15\n",
    "                print (k, \"C°, es igual a: \", nvl, \"K°\")\n",
    "            elif umo == \"K\" and umd == \"F\" :\n",
    "                nvl = (k - 273.15) * (9/5) +32\n",
    "                print (k, \"K°, es igual a: \", nvl, \"F°\")\n",
    "            elif umo == \"K\" and umd == \"C\" :\n",
    "                nvl = k - 273.15\n",
    "                print (k, \"K°, es igual a: \", nvl, \"C°\")\n",
    "            else:\n",
    "                print(\"La unidad de destino es igual a la de origen, por lo tanto el valor es igual a:\", k, umo,\"°\")\n",
    "\n",
    "    def funfac (self, vlfac):\n",
    "        if type (vlfac) == int:\n",
    "            if vlfac > 0 :\n",
    "                for xf in range (2,vlfac):\n",
    "                    vlfac = vlfac * xf\n",
    "                return vlfac\n",
    "            else:\n",
    "                print (\"El nro ingresado no es positivo\")\n",
    "        else:\n",
    "            print (\"El valor ingresado no es un entero\")  "
   ]
  },
  {
   "cell_type": "code",
   "execution_count": null,
   "metadata": {},
   "outputs": [],
   "source": [
    "#después de ver el archivo resuelto y consultar con un amigo programador, entendí como funcionaba lo ya resuelto y que es una buen práctica es por esto también escribí el código de la otra manera, luego de comprenderlo.\n",
    "class Calcular2:\n",
    "    def __init__(self,lista_cl):\n",
    "        self.listacl = lista_cl\n",
    "\n",
    "    def funpri(self):\n",
    "        for i in self.listacl:\n",
    "            if (self.__funpri(i)):\n",
    "                print('El elemento', i, 'SI es un numero primo')\n",
    "            else:\n",
    "                print('El elemento', i, 'NO es un numero primo')\n",
    "\n",
    "    def convgr (self,umo,umd):\n",
    "        for f in self.listacl:\n",
    "            self.__convgr(f,umo,umd)\n",
    "\n",
    "    def funfac (self):\n",
    "        for e in self.listacl:\n",
    "            print (\"El factorial de:\", e, \"es\", self.__funfac(e))\n",
    "\n",
    "    def __funpri(self, nrv):\n",
    "        primo = True\n",
    "        if (type(nrv) == int):\n",
    "            for x in range (2,nrv):\n",
    "                if (nrv % x == 0) :\n",
    "                    primo = False\n",
    "                    break\n",
    "        else:\n",
    "            print (\"ingrese un nro entero\")\n",
    "        return primo\n",
    "\n",
    "    def funcrep (self):\n",
    "        lisrep = []\n",
    "        for elem in self.listacl:\n",
    "            canrep = self.listacl.count(elem)\n",
    "            lisrep.append(canrep)\n",
    "            if self.listacl.count(elem) == max(lisrep):\n",
    "                nromasrep = elem       \n",
    "        mlis= max(lisrep)\n",
    "        return nromasrep, mlis\n",
    "\n",
    "    def __convgr (self, vl, umo, umd):\n",
    "        if umo == \"F\" and umd == \"C\" :\n",
    "            nvl = (vl - 32) / (9/5)\n",
    "            print (vl, \"F°, es igual a: \", nvl, \"C°\")\n",
    "        elif umo == \"F\" and umd == \"K\" :\n",
    "            nvl = ((vl - 32) / (9/5)) + 273.15\n",
    "            print (vl, \"F°, es igual a: \", nvl, \"K°\")\n",
    "        elif umo == \"C\" and umd == \"F\" :\n",
    "            nvl = (vl * (9/5)) + 32\n",
    "            print (vl, \"C°, es igual a: \", nvl, \"F°\")\n",
    "        elif umo == \"C\" and umd == \"K\" :\n",
    "            nvl = vl + 273,15\n",
    "            print (vl, \"C°, es igual a: \", nvl, \"K°\")\n",
    "        elif umo == \"K\" and umd == \"F\" :\n",
    "            nvl = (vl - 273.15) * (9/5) +32\n",
    "            print (vl, \"K°, es igual a: \", nvl, \"F°\")\n",
    "        elif umo == \"K\" and umd == \"C\" :\n",
    "            nvl = vl - 273.15\n",
    "            print (vl, \"K°, es igual a: \", nvl, \"C°\")\n",
    "        else:\n",
    "            print(\"La unidad de destino es igual a la de origen, por lo tanto el valor es igual a:\", vl, umo,\"°\")\n",
    "\n",
    "    def __funfac (self, vlfac):\n",
    "        if type (vlfac) == int:\n",
    "            if vlfac > 0 :\n",
    "                for xf in range (2,vlfac):\n",
    "                    vlfac = vlfac * xf\n",
    "                return vlfac\n",
    "            else:\n",
    "                print (\"El nro ingresado no es positivo\")\n",
    "        else:\n",
    "            print (\"El valor ingresado no es un entero\")   "
   ]
  },
  {
   "cell_type": "code",
   "execution_count": null,
   "metadata": {},
   "outputs": [],
   "source": [
    "h = Calcular2 ([1,2,3,3,33,12,11,14,18])"
   ]
  },
  {
   "cell_type": "code",
   "execution_count": null,
   "metadata": {},
   "outputs": [],
   "source": [
    "h.convgr(\"C\",\"F\")"
   ]
  },
  {
   "cell_type": "code",
   "execution_count": null,
   "metadata": {},
   "outputs": [],
   "source": [
    "h.funpri()"
   ]
  },
  {
   "attachments": {},
   "cell_type": "markdown",
   "metadata": {},
   "source": [
    "8) Crear un archivo .py aparte y ubicar allí la clase generada en el punto anterior. Luego realizar la importación del módulo y probar alguna de sus funciones"
   ]
  },
  {
   "cell_type": "code",
   "execution_count": 2,
   "metadata": {},
   "outputs": [],
   "source": [
    "from Calculadora import *"
   ]
  },
  {
   "cell_type": "code",
   "execution_count": 3,
   "metadata": {},
   "outputs": [],
   "source": [
    "j= Calcular2 ([1,2,4,5,6,3,5,6,7,44,22])"
   ]
  },
  {
   "cell_type": "code",
   "execution_count": 4,
   "metadata": {},
   "outputs": [
    {
     "data": {
      "text/plain": [
       "[True, True, False, True, False, True, True, False, True, False, False]"
      ]
     },
     "execution_count": 4,
     "metadata": {},
     "output_type": "execute_result"
    }
   ],
   "source": [
    "j.funpri ()"
   ]
  }
 ],
 "metadata": {
  "interpreter": {
   "hash": "c85384e4cb51c8b72350f3a8712cc8351fdc3955e32a27f9b60c6242ab125f01"
  },
  "kernelspec": {
   "display_name": "Python 3 (ipykernel)",
   "language": "python",
   "name": "python3"
  },
  "language_info": {
   "codemirror_mode": {
    "name": "ipython",
    "version": 3
   },
   "file_extension": ".py",
   "mimetype": "text/x-python",
   "name": "python",
   "nbconvert_exporter": "python",
   "pygments_lexer": "ipython3",
   "version": "3.10.11"
  }
 },
 "nbformat": 4,
 "nbformat_minor": 4
}
